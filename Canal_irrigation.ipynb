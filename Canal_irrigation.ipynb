{
 "cells": [
  {
   "cell_type": "markdown",
   "metadata": {},
   "source": [
    "## Canal d'irrigation ..."
   ]
  },
  {
   "cell_type": "markdown",
   "metadata": {},
   "source": [
    "Un courant d’eau, de vitesse $V_1$, s’écoule sous l’effet de la gravité dans un canal d’irrigation\n",
    "bidimensionnel de profondeur $h$ partiellement fermé par une vanne. On néglige les effets visqueux et les\n",
    "pertes de charge.\n",
    "\n",
    "<img src=\"fig-canal-irrigation.svg\" width=\"50%\" />\n",
    "\n",
    "* a) Tracer le profil de pression au fond du canal et sur les côtés amont et aval.\n",
    "* b) Calculer la profondeur $l$ en aval de la vanne.\n",
    "* c) Calculer la force $\\vec{F}$ exercée par le courant d’eau sur la vanne."
   ]
  },
  {
   "cell_type": "markdown",
   "metadata": {},
   "source": [
    "----\n",
    "a) Profil de pression en amont et aval :\n",
    "\n",
    "<img src=\"fig-canal-irrigation-pression.svg\" width=\"50%\" />"
   ]
  },
  {
   "cell_type": "markdown",
   "metadata": {},
   "source": [
    "b) Profondeur $l$ en aval de la vanne :"
   ]
  },
  {
   "cell_type": "markdown",
   "metadata": {},
   "source": [
    "Dans cet écoulement permanent d'un fluide incompressible on peut appliquer entre 2 points au fond du canal en $1$ en amont et en $2$ à l'aval :\n",
    "$$\\left(P_1 + \\frac{1}{2}\\rho V_1^2 + \\rho g z_1\\right) = \\left(P_2 + \\frac{1}{2}\\rho V_2^2 + \\rho g z_2\\right)$$ "
   ]
  },
  {
   "cell_type": "markdown",
   "metadata": {},
   "source": [
    "Avec $P_1=P_\\text{Atm}+\\rho g h$, $P_2=P_\\text{Atm}+\\rho g l$, $z_1=z_2=0$ on a :\n",
    "\n",
    "$$\\left(\\rho g h+ \\frac{1}{2}\\rho V_1^2 \\right) = \\left(\\rho g l + \\frac{1}{2}\\rho V_2^2\\right)$$"
   ]
  },
  {
   "cell_type": "markdown",
   "metadata": {},
   "source": [
    "En utilisant la conservatino du débit on a : $V_1h = V_2l$ et donc :\n",
    "$$\\rho g (h-l) =  \\frac{1}{2}\\rho V_1^2 \\left(\\frac{h^2}{l^2}-1\\right)\\Rightarrow 2gl^2 = V_1^2(h+l)$$"
   ]
  },
  {
   "cell_type": "markdown",
   "metadata": {},
   "source": [
    "Donc  :\n",
    "    $$l=\\frac{1}{4g}\\left(V_1^2\\pm\\sqrt{V_1^4+8gh}\\right)$$"
   ]
  },
  {
   "cell_type": "code",
   "execution_count": 9,
   "metadata": {},
   "outputs": [
    {
     "name": "stdout",
     "output_type": "stream",
     "text": [
      "l  =0.229 m\n",
      "V2 =3.493 m/s\n"
     ]
    }
   ],
   "source": [
    "import numpy as np\n",
    "V1 = 1\n",
    "h  = 0.8\n",
    "g =  9.81\n",
    "l = (V1**2+np.sqrt(V1**4+8*g*h))/(4*g)\n",
    "V2 = V1*h/l\n",
    "print('l  =%.3f m'%l)\n",
    "print('V2 =%.3f m/s'%V2)"
   ]
  },
  {
   "cell_type": "markdown",
   "metadata": {},
   "source": [
    "c) Effort $\\vec{F}$ sur la vanne :"
   ]
  },
  {
   "cell_type": "markdown",
   "metadata": {},
   "source": [
    "Le théorème d'Euler :\n",
    "$$\\sum\\vec{F}_\\text{Ext$\\to$Vfluide}=Q_m\\left(\\vec{V}_s - \\vec{V}_e\\right)$$"
   ]
  },
  {
   "cell_type": "markdown",
   "metadata": {},
   "source": [
    "Les forces extérieures agissant sur le volume de fluide projetées sur l'axe horizontal, avec $L$ largeur canal, sont :\n",
    "* La résultante due à la presssion en amont :\n",
    "$$F_1 = \\frac{1}{2}\\rho g h^2 L$$\n",
    "* La résultante due à la presssion en aval :\n",
    "$$F_2 = -\\frac{1}{2}\\rho g l^2 L$$\n",
    "Pour les résultantes de pression on raisonne ici en différence de pression par rapport à $P_\\text{Atm}$ qui s'exerce partout.\n",
    "* Si $\\vec{F}$ est la résultante de l'action de l'eau sur la vanne, $-\\vec{F}$ est celle de la vanne sur l'eau donc en projection sur l'axe horizontal :\n",
    "$$-F$$"
   ]
  },
  {
   "cell_type": "markdown",
   "metadata": {},
   "source": [
    "Donc :\n",
    "$$ \\frac{1}{2}\\rho g h^2 L-F -\\frac{1}{2}\\rho g l^2 L = \\rho V_1 hL(V_2-V_1)$$\n",
    "Et :\n",
    "$$\\frac{F}{L}=\\frac{1}{2}\\rho g (h^2-l^2) - \\rho V_1^2 h\\left(\\frac{h-l}{l}\\right)$$\n"
   ]
  },
  {
   "cell_type": "code",
   "execution_count": 15,
   "metadata": {},
   "outputs": [
    {
     "name": "stdout",
     "output_type": "stream",
     "text": [
      "F/L =887.351 N/m\n"
     ]
    }
   ],
   "source": [
    "rho = 1000\n",
    "FL = 0.5*rho*g*(h**2-l**2)-rho*V1**2*h*(h-l)/l\n",
    "print('F/L =%.3f N/m'%FL)"
   ]
  },
  {
   "cell_type": "code",
   "execution_count": null,
   "metadata": {},
   "outputs": [],
   "source": []
  }
 ],
 "metadata": {
  "kernelspec": {
   "display_name": "Python 3",
   "language": "python",
   "name": "python3"
  },
  "language_info": {
   "codemirror_mode": {
    "name": "ipython",
    "version": 3
   },
   "file_extension": ".py",
   "mimetype": "text/x-python",
   "name": "python",
   "nbconvert_exporter": "python",
   "pygments_lexer": "ipython3",
   "version": "3.8.5"
  }
 },
 "nbformat": 4,
 "nbformat_minor": 4
}
